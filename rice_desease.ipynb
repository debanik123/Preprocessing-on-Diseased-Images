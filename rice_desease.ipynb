{
 "cells": [
  {
   "cell_type": "code",
   "execution_count": null,
   "metadata": {},
   "outputs": [],
   "source": [
    "import pandas as pd"
   ]
  },
  {
   "cell_type": "code",
   "execution_count": null,
   "metadata": {},
   "outputs": [],
   "source": [
    "p = \"mean of diseased pixels in red plane, mean of diseased pixels in green plane, mean of diseased pixels in blue plane, mean of background pixels in red plane, mean of background pixels in green plane, mean of background pixels in blue plane, mean of boundary region pixels of disease in red plane, mean of boundary region pixels of disease in green plane, mean of boundary region pixels of disease in blue plane, mean of core region pixels of disease in red plane, mean of core region pixels of disease in green plane, mean of core region pixels of disease in blue plane, standard deviation of diseased pixels in red plane, standard deviation of diseased pixels in green plane, standard deviation of diseased pixels in blue plane, standard deviation of background pixels in red plane, standard deviation of background pixels in green plane, standard deviation of background pixels in blue plane, standard deviation of boundary region pixels of disease in red plane, standard deviation of boundary region pixels of disease in green plane, standard deviation of boundary region pixels of disease in blue plane, standard deviation of core region pixels of disease in red plane, standard deviation of core region pixels of disease in green plane, standard deviation of core region pixels of disease in blue plane.\""
   ]
  },
  {
   "cell_type": "code",
   "execution_count": null,
   "metadata": {},
   "outputs": [],
   "source": [
    "q = p.lower().split(\",\")"
   ]
  },
  {
   "cell_type": "code",
   "execution_count": null,
   "metadata": {},
   "outputs": [],
   "source": [
    "d = {'feature_of_data':q}\n",
    "df = pd.DataFrame(d)"
   ]
  },
  {
   "cell_type": "code",
   "execution_count": null,
   "metadata": {},
   "outputs": [],
   "source": [
    "df.to_csv(\"arg.csv\")"
   ]
  },
  {
   "cell_type": "code",
   "execution_count": null,
   "metadata": {},
   "outputs": [],
   "source": [
    "q=[]\n",
    "import pandas as pd\n",
    "p = {\"mean of diseased pixels in red plane\":q,\"mean of diseased pixels in green plane\":q}\n",
    "df = pd.DataFrame(p)"
   ]
  },
  {
   "cell_type": "code",
   "execution_count": null,
   "metadata": {},
   "outputs": [],
   "source": [
    "df"
   ]
  },
  {
   "cell_type": "code",
   "execution_count": null,
   "metadata": {},
   "outputs": [],
   "source": [
    "df.to_csv(\"agr.csv\")"
   ]
  },
  {
   "cell_type": "code",
   "execution_count": null,
   "metadata": {},
   "outputs": [],
   "source": [
    "df"
   ]
  },
  {
   "cell_type": "markdown",
   "metadata": {},
   "source": [
    "from google_images_download import google_images_download   #importing the library\n",
    "\n",
    "response = google_images_download.googleimagesdownload()   #class instantiation\n",
    "\n",
    "arguments = {\"keywords\":\"zygophyllum fabago,zygophyllum,zygophlebia sectifrons,zygophlebia,zuckia brandegeei,zuckia brandegeei,zuckia brandegeei,zuckia brandegeei,zuckia,zoysia tenuifolia,zoysia matrella,zoysia matrella,zoysia matrella,zoysia japonica,zoysia\",\"limit\":99,\"print_urls\":True}   #creating list of arguments\n",
    "paths = response.download(arguments)   #passing the arguments to the function\n",
    "print(paths)"
   ]
  },
  {
   "cell_type": "code",
   "execution_count": 2,
   "metadata": {},
   "outputs": [
    {
     "name": "stdout",
     "output_type": "stream",
     "text": [
      "['Bacterial leaf blight', 'Brown spot', 'Leaf smut']\n"
     ]
    }
   ],
   "source": [
    "import matplotlib.pyplot as plt\n",
    "import os\n",
    "import numpy as np\n",
    "import cv2\n",
    "PATH = os.getcwd()\n",
    "# Define data path\n",
    "data_path = PATH + '/Datasets'\n",
    "data_dir_list = os.listdir(data_path)\n",
    "print(data_dir_list)"
   ]
  },
  {
   "cell_type": "code",
   "execution_count": 3,
   "metadata": {},
   "outputs": [
    {
     "name": "stdout",
     "output_type": "stream",
     "text": [
      "Loading the images of dataset-Bacterial leaf blight\n",
      "\n",
      "Loading the images of dataset-Brown spot\n",
      "\n",
      "Loading the images of dataset-Leaf smut\n",
      "\n",
      "(120,)\n"
     ]
    }
   ],
   "source": [
    "num_classes = 3\n",
    "\n",
    "labels_name={'Bacterial leaf blight':0,'Brown spot':1,'Leaf smut':2}\n",
    "\n",
    "img_data_list=[]\n",
    "labels_list = []\n",
    "\n",
    "for dataset in data_dir_list:\n",
    "    img_list=os.listdir(data_path+'/'+ dataset)\n",
    "    print ('Loading the images of dataset-'+'{}\\n'.format(dataset))\n",
    "    label = labels_name[dataset]\n",
    "    for img in img_list:\n",
    "        input_img=cv2.imread(data_path + '/'+ dataset + '/'+ img )\n",
    "        img_data_list.append(input_img)\n",
    "        labels_list.append(label)\n",
    "\n",
    "img_data = np.array(img_data_list)\n",
    "print (img_data.shape)"
   ]
  },
  {
   "cell_type": "code",
   "execution_count": 4,
   "metadata": {},
   "outputs": [],
   "source": [
    "reshaped_img = []\n",
    "for i in range(120):\n",
    "    reshaped_img.append(cv2.resize(img_data[i],(256,256)))"
   ]
  },
  {
   "cell_type": "code",
   "execution_count": 5,
   "metadata": {},
   "outputs": [],
   "source": [
    "rgb = []\n",
    "for i in range(120):\n",
    "    rgb.append(cv2.cvtColor(reshaped_img[i],cv2.COLOR_BGR2RGB))\n",
    "hsv = []\n",
    "canny = []\n",
    "for i in range(120):\n",
    "    hsv.append(cv2.cvtColor(rgb[i],cv2.COLOR_RGB2HSV))\n",
    "    canny.append(cv2.Canny(rgb[i],100,200))\n",
    "for i in range(120):\n",
    "    cv2.imshow(\"rgb_of_image\",rgb[i])\n",
    "    cv2.imshow(\"hsv_of_image\",hsv[i])\n",
    "    cv2.imshow(\"canny\",canny[i])\n",
    "    cv2.waitKey(0)\n",
    "    \n",
    "\n",
    "cv2.destroyAllWindows()"
   ]
  },
  {
   "cell_type": "code",
   "execution_count": 6,
   "metadata": {},
   "outputs": [
    {
     "name": "stdout",
     "output_type": "stream",
     "text": [
      "DSC_0373-masked.JPG\n"
     ]
    }
   ],
   "source": [
    "import cv2\n",
    "import numpy as np\n",
    "\n",
    "def image_masking(filepath):\n",
    "    BLUR = 21\n",
    "    CANNY_THRESH_1 = 10\n",
    "    CANNY_THRESH_2 = 200\n",
    "    MASK_DILATE_ITER = 10\n",
    "    MASK_ERODE_ITER = 10\n",
    "    MASK_COLOR = (0.0,0.0,0.0) # In BGR format\n",
    "    img = cv2.imread(filepath)\n",
    "    gray = cv2.cvtColor(img,cv2.COLOR_BGR2GRAY)\n",
    "    \n",
    "    edges = cv2.Canny(gray, CANNY_THRESH_1, CANNY_THRESH_2)\n",
    "    edges = cv2.dilate(edges, None)\n",
    "    edges = cv2.erode(edges, None)\n",
    "    contour_info = []\n",
    "    contours, __ = cv2.findContours(edges, cv2.RETR_LIST, cv2.CHAIN_APPROX_NONE)\n",
    "    \n",
    "    for c in contours:\n",
    "        contour_info.append((c, cv2.isContourConvex(c), cv2.contourArea(c),))\n",
    "    contour_info = sorted(contour_info, key=lambda c: c[2], reverse=True)\n",
    "    \n",
    "    max_contour = contour_info[0]\n",
    "    mask = np.zeros(edges.shape)\n",
    "    cv2.fillConvexPoly(mask, max_contour[0], (255))\n",
    "    mask = cv2.dilate(mask, None, iterations=MASK_DILATE_ITER)\n",
    "    mask = cv2.erode(mask, None, iterations=MASK_ERODE_ITER)\n",
    "    mask = cv2.GaussianBlur(mask, (BLUR, BLUR), 0)\n",
    "    \n",
    "    mask_stack = np.dstack([mask]*3)\n",
    "    mask_stack  = mask_stack.astype('float32') / 255.0\n",
    "    img = img.astype('float32') / 255.0\n",
    "    masked = (mask_stack * img) + ((1-mask_stack) * MASK_COLOR)\n",
    "    masked = (masked * 255).astype('uint8')\n",
    "\n",
    "    fileName, fileExtension = filepath.split('.')\n",
    "    fileName += '-masked.'\n",
    "    filepath = fileName + fileExtension\n",
    "    print(filepath)\n",
    "\n",
    "    cv2.imwrite(filepath, masked)\n",
    "\n",
    "if __name__ == '__main__':\n",
    "    filepath = \"DSC_0373.JPG\"\n",
    "    image_masking(filepath)"
   ]
  },
  {
   "cell_type": "code",
   "execution_count": 7,
   "metadata": {},
   "outputs": [],
   "source": [
    "canny = cv2.Canny(rgb[10],100,200)\n",
    "cv2.imshow(\"rgb_of_image\",rgb[10])\n",
    "cv2.imshow(\"canny\",canny)\n",
    "cv2.waitKey(0)\n",
    "cv2.destroyAllWindows()\n"
   ]
  },
  {
   "cell_type": "code",
   "execution_count": 10,
   "metadata": {},
   "outputs": [],
   "source": [
    "img_mask = cv2.imread(\"DSC_0373-masked.JPG\")\n",
    "resize_img = cv2.resize(img_mask,(256,256),interpolation = cv2.INTER_AREA)\n",
    "cv2.imshow(\"reshaped_img\",resize_img)\n",
    "cv2.waitKey(0)\n",
    "cv2.destroyAllWindows()"
   ]
  },
  {
   "cell_type": "code",
   "execution_count": null,
   "metadata": {},
   "outputs": [],
   "source": [
    "light_white = (0, 0, 0)\n",
    "dark_white = (0, 255, 0)\n",
    "mask = cv2.inRange(hsv[20],light_white, dark_white)\n",
    "result = cv2.bitwise_and(rgb[10], rgb[10], mask=mask)\n",
    "cv2.imshow(\"rgb\",rgb[10])\n",
    "cv2.imshow(\"bitwise_image\",result)\n",
    "cv2.waitKey(0)\n",
    "cv2.destroyAllWindows()"
   ]
  },
  {
   "cell_type": "code",
   "execution_count": null,
   "metadata": {},
   "outputs": [],
   "source": [
    "R1 = []\n",
    "G1 = []\n",
    "B1 = []\n",
    "for i in range(120):\n",
    "    B,G,R = cv2.split(reshaped_img[i])\n",
    "    R1.append(R)\n",
    "    G1.append(G)\n",
    "    B1.append(B)"
   ]
  },
  {
   "cell_type": "code",
   "execution_count": null,
   "metadata": {},
   "outputs": [],
   "source": [
    "B1[119].shape"
   ]
  },
  {
   "cell_type": "code",
   "execution_count": null,
   "metadata": {},
   "outputs": [],
   "source": [
    "print(R1,G1,B1)"
   ]
  },
  {
   "cell_type": "code",
   "execution_count": null,
   "metadata": {},
   "outputs": [],
   "source": [
    "plt.imshow(R1[10])"
   ]
  },
  {
   "cell_type": "code",
   "execution_count": null,
   "metadata": {},
   "outputs": [],
   "source": [
    "#t = cv2.cvtColor(R1[10],cv2.COLOR_BGR2RGB)\n",
    "#t1 = cv2.cvtColor(t,cv2.COLOR_BGR2HSV)\n",
    "R1_1 = []\n",
    "G1_1 = []\n",
    "B1_1 = []\n",
    "for i in range(120):\n",
    "    R1_1.append(cv2.cvtColor(R1[i],cv2.COLOR_BGR2RGB))\n",
    "    G1_1.append(cv2.cvtColor(G1[i],cv2.COLOR_BGR2RGB))\n",
    "    B1_1.append(cv2.cvtColor(B1[i],cv2.COLOR_BGR2RGB))"
   ]
  },
  {
   "cell_type": "code",
   "execution_count": null,
   "metadata": {},
   "outputs": [],
   "source": [
    "R1_h = []\n",
    "G1_h = []\n",
    "B1_h = []\n",
    "for i in range(120):\n",
    "    R1_h.append(cv2.cvtColor(R1_1[i],cv2.COLOR_RGB2HSV))\n",
    "    G1_h.append(cv2.cvtColor(G1_1[i],cv2.COLOR_RGB2HSV))\n",
    "    B1_h.append(cv2.cvtColor(B1_1[i],cv2.COLOR_RGB2HSV))"
   ]
  },
  {
   "cell_type": "code",
   "execution_count": null,
   "metadata": {},
   "outputs": [],
   "source": [
    "cv2.imshow(\"hsv_of_image\",R1_h[10])\n",
    "cv2.waitKey(0)\n",
    "cv2.destroyAllWindows()"
   ]
  },
  {
   "cell_type": "code",
   "execution_count": null,
   "metadata": {},
   "outputs": [],
   "source": []
  }
 ],
 "metadata": {
  "kernelspec": {
   "display_name": "Python 3",
   "language": "python",
   "name": "python3"
  },
  "language_info": {
   "codemirror_mode": {
    "name": "ipython",
    "version": 3
   },
   "file_extension": ".py",
   "mimetype": "text/x-python",
   "name": "python",
   "nbconvert_exporter": "python",
   "pygments_lexer": "ipython3",
   "version": "3.7.3"
  }
 },
 "nbformat": 4,
 "nbformat_minor": 2
}
